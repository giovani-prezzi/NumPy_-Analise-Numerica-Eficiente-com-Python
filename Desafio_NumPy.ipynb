{
  "nbformat": 4,
  "nbformat_minor": 0,
  "metadata": {
    "colab": {
      "provenance": []
    },
    "kernelspec": {
      "name": "python3",
      "display_name": "Python 3"
    },
    "language_info": {
      "name": "python"
    }
  },
  "cells": [
    {
      "cell_type": "code",
      "execution_count": 51,
      "metadata": {
        "id": "Y0mT6ZvYIQi0"
      },
      "outputs": [],
      "source": [
        "import numpy as np"
      ]
    },
    {
      "cell_type": "code",
      "source": [
        "url = 'https://raw.githubusercontent.com/allanspadini/numpy/dados/citrus.csv'\n",
        "\n",
        "dados = np.loadtxt(url,delimiter=',',skiprows=1,usecols=np.arange(1,6,1))\n",
        "\n",
        "dados"
      ],
      "metadata": {
        "colab": {
          "base_uri": "https://localhost:8080/"
        },
        "id": "Ga_Sn5hpIdh2",
        "outputId": "f7105858-21f1-431e-de45-9f18d352562e"
      },
      "execution_count": 52,
      "outputs": [
        {
          "output_type": "execute_result",
          "data": {
            "text/plain": [
              "array([[  2.96,  86.76, 172.  ,  85.  ,   2.  ],\n",
              "       [  3.91,  88.05, 166.  ,  78.  ,   3.  ],\n",
              "       [  4.42,  95.17, 156.  ,  81.  ,   2.  ],\n",
              "       ...,\n",
              "       [ 15.59, 256.5 , 168.  ,  82.  ,  20.  ],\n",
              "       [ 15.92, 260.14, 142.  ,  72.  ,  11.  ],\n",
              "       [ 16.45, 261.51, 152.  ,  74.  ,   2.  ]])"
            ]
          },
          "metadata": {},
          "execution_count": 52
        }
      ]
    },
    {
      "cell_type": "code",
      "source": [
        "diametro_laranja = dados[:5000,0]\n",
        "diametro_toranja = dados[5000:,0]"
      ],
      "metadata": {
        "id": "j-BL6urTJI_L"
      },
      "execution_count": 53,
      "outputs": []
    },
    {
      "cell_type": "code",
      "source": [
        "peso_laranja = dados[:5000,1]\n",
        "peso_toranja = dados[5000:,1]"
      ],
      "metadata": {
        "id": "QnoeAgTIknMb"
      },
      "execution_count": 54,
      "outputs": []
    },
    {
      "cell_type": "code",
      "source": [
        "import matplotlib.pyplot as plt"
      ],
      "metadata": {
        "id": "lv1NDspVktLE"
      },
      "execution_count": 55,
      "outputs": []
    },
    {
      "cell_type": "code",
      "source": [
        "plt.plot(diametro_laranja,peso_laranja,'ro')\n",
        "plt.plot(diametro_toranja,peso_toranja,'bo')"
      ],
      "metadata": {
        "colab": {
          "base_uri": "https://localhost:8080/",
          "height": 447
        },
        "id": "87SLegUalaC0",
        "outputId": "14f1336b-1c73-4183-d874-d3038efe6f1f"
      },
      "execution_count": 56,
      "outputs": [
        {
          "output_type": "execute_result",
          "data": {
            "text/plain": [
              "[<matplotlib.lines.Line2D at 0x7d497c468490>]"
            ]
          },
          "metadata": {},
          "execution_count": 56
        },
        {
          "output_type": "display_data",
          "data": {
            "text/plain": [
              "<Figure size 640x480 with 1 Axes>"
            ],
            "image/png": "[encoded data removed]"
          },
          "metadata": {}
        }
      ]
    },
    {
      "cell_type": "code",
      "source": [
        "xl = diametro_laranja\n",
        "yl = peso_laranja\n",
        "nl = np.size(xl)"
      ],
      "metadata": {
        "id": "cV8RFs2PlhoL"
      },
      "execution_count": 57,
      "outputs": []
    },
    {
      "cell_type": "code",
      "source": [
        "al = (nl * np.sum(xl * yl) - np.sum(xl) * np.sum(yl)) / (nl * np.sum(xl ** 2) - np.sum(xl) ** 2)"
      ],
      "metadata": {
        "id": "h9EoPA3aoJmK"
      },
      "execution_count": 58,
      "outputs": []
    },
    {
      "cell_type": "code",
      "source": [
        "bl = np.mean(yl) - al * np.mean(xl)"
      ],
      "metadata": {
        "id": "ybOxZncrofH-"
      },
      "execution_count": 59,
      "outputs": []
    },
    {
      "cell_type": "code",
      "source": [
        "yla = al * xl + bl"
      ],
      "metadata": {
        "id": "bFcxmod1ojrF"
      },
      "execution_count": 60,
      "outputs": []
    },
    {
      "cell_type": "code",
      "source": [
        "np.linalg.norm(yl - yla)"
      ],
      "metadata": {
        "colab": {
          "base_uri": "https://localhost:8080/"
        },
        "id": "9BOl1ErvpCVI",
        "outputId": "7d404057-f3f7-4ea5-9f6d-e3d61817cb16"
      },
      "execution_count": 61,
      "outputs": [
        {
          "output_type": "execute_result",
          "data": {
            "text/plain": [
              "46.32284523962465"
            ]
          },
          "metadata": {},
          "execution_count": 61
        }
      ]
    },
    {
      "cell_type": "code",
      "source": [
        "plt.plot(diametro_laranja,peso_laranja,'ro')\n",
        "plt.plot(xl,yla,'bo')"
      ],
      "metadata": {
        "colab": {
          "base_uri": "https://localhost:8080/",
          "height": 447
        },
        "id": "CPkuho34pbqG",
        "outputId": "75de855d-d7d1-4b5a-dd0b-6dd79482a839"
      },
      "execution_count": 62,
      "outputs": [
        {
          "output_type": "execute_result",
          "data": {
            "text/plain": [
              "[<matplotlib.lines.Line2D at 0x7d497c48d810>]"
            ]
          },
          "metadata": {},
          "execution_count": 62
        },
        {
          "output_type": "display_data",
          "data": {
            "text/plain": [
              "<Figure size 640x480 with 1 Axes>"
            ],
            "image/png": "[encoded data removed]"
          },
          "metadata": {}
        }
      ]
    },
    {
      "cell_type": "code",
      "source": [
        "xt = diametro_toranja\n",
        "yt = peso_toranja\n",
        "nt = np.size(xt)"
      ],
      "metadata": {
        "id": "3vzpevLopwn0"
      },
      "execution_count": 69,
      "outputs": []
    },
    {
      "cell_type": "code",
      "source": [
        "at = (nt * np.sum(xt * yt) - np.sum(xt) * np.sum(yt)) / (nt * np.sum(xt ** 2) - np.sum(xt) ** 2)"
      ],
      "metadata": {
        "id": "kjD4A8LmqK-n"
      },
      "execution_count": 70,
      "outputs": []
    },
    {
      "cell_type": "code",
      "source": [
        "bt = np.mean(yt) - at * np.mean(xt)"
      ],
      "metadata": {
        "id": "-nEur0s4rKiz"
      },
      "execution_count": 71,
      "outputs": []
    },
    {
      "cell_type": "code",
      "source": [
        "yto = at * xt + bt"
      ],
      "metadata": {
        "id": "hlWn-mXarUeX"
      },
      "execution_count": 72,
      "outputs": []
    },
    {
      "cell_type": "code",
      "source": [
        "np.linalg.norm(yt - yto)"
      ],
      "metadata": {
        "colab": {
          "base_uri": "https://localhost:8080/"
        },
        "id": "jgZF4iS7rc_p",
        "outputId": "993aeae2-f771-409c-f4fa-147f1acef11c"
      },
      "execution_count": 73,
      "outputs": [
        {
          "output_type": "execute_result",
          "data": {
            "text/plain": [
              "44.60533206058902"
            ]
          },
          "metadata": {},
          "execution_count": 73
        }
      ]
    },
    {
      "cell_type": "code",
      "source": [
        "plt.plot(diametro_toranja,peso_toranja,'ro')\n",
        "plt.plot(xt,yto,'bo')"
      ],
      "metadata": {
        "colab": {
          "base_uri": "https://localhost:8080/",
          "height": 447
        },
        "id": "Qbsj96ijriUl",
        "outputId": "9527c249-1e6e-480c-bf6a-de9a2da6a2c3"
      },
      "execution_count": 74,
      "outputs": [
        {
          "output_type": "execute_result",
          "data": {
            "text/plain": [
              "[<matplotlib.lines.Line2D at 0x7d497c591930>]"
            ]
          },
          "metadata": {},
          "execution_count": 74
        },
        {
          "output_type": "display_data",
          "data": {
            "text/plain": [
              "<Figure size 640x480 with 1 Axes>"
            ],
            "image/png": "[encoded data removed]"
          },
          "metadata": {}
        }
      ]
    },
    {
      "cell_type": "code",
      "source": [
        "coef_angulares = np.random.uniform(low=10,high=20,size=100)"
      ],
      "metadata": {
        "id": "5vpghvzWrsli"
      },
      "execution_count": 80,
      "outputs": []
    },
    {
      "cell_type": "code",
      "source": [
        "norma_l = np.array([])\n",
        "for i in range(100):\n",
        "  norma_l = np.append(norma_l,np.linalg.norm(yl-(coef_angulares[i]*xl+17)))"
      ],
      "metadata": {
        "id": "1AJiPBaq_dqQ"
      },
      "execution_count": 81,
      "outputs": []
    },
    {
      "cell_type": "code",
      "source": [
        "min(norma_l)"
      ],
      "metadata": {
        "colab": {
          "base_uri": "https://localhost:8080/"
        },
        "id": "HWY12p_e_60M",
        "outputId": "2b108212-6371-49f6-c2cf-084730d8897f"
      },
      "execution_count": 82,
      "outputs": [
        {
          "output_type": "execute_result",
          "data": {
            "text/plain": [
              "118.34493732664019"
            ]
          },
          "metadata": {},
          "execution_count": 82
        }
      ]
    },
    {
      "cell_type": "code",
      "source": [
        "np.where(norma_l==min(norma_l))"
      ],
      "metadata": {
        "colab": {
          "base_uri": "https://localhost:8080/"
        },
        "id": "OLNQNpB3AUF6",
        "outputId": "9676c572-46bf-4fc1-9c11-6e251a4e63e7"
      },
      "execution_count": 87,
      "outputs": [
        {
          "output_type": "execute_result",
          "data": {
            "text/plain": [
              "(array([76]),)"
            ]
          },
          "metadata": {},
          "execution_count": 87
        }
      ]
    },
    {
      "cell_type": "code",
      "source": [
        "coef_angulares[76]"
      ],
      "metadata": {
        "colab": {
          "base_uri": "https://localhost:8080/"
        },
        "id": "gMJ-Hjj2AzHK",
        "outputId": "fe4054d0-aab1-45e8-cd38-e9e38fe72d1c"
      },
      "execution_count": 88,
      "outputs": [
        {
          "output_type": "execute_result",
          "data": {
            "text/plain": [
              "15.976248410533696"
            ]
          },
          "metadata": {},
          "execution_count": 88
        }
      ]
    },
    {
      "cell_type": "code",
      "source": [
        "norma_t = np.array([])\n",
        "for i in range(100):\n",
        "  norma_t = np.append(norma_t,np.linalg.norm(yt-(coef_angulares[i]*xt+17)))"
      ],
      "metadata": {
        "id": "SUck-eLgA4bw"
      },
      "execution_count": 89,
      "outputs": []
    },
    {
      "cell_type": "code",
      "source": [
        "min(norma_t)"
      ],
      "metadata": {
        "colab": {
          "base_uri": "https://localhost:8080/"
        },
        "id": "M8jggXn4Blt-",
        "outputId": "f7e973db-bb93-452a-c936-f76702bc20c2"
      },
      "execution_count": 90,
      "outputs": [
        {
          "output_type": "execute_result",
          "data": {
            "text/plain": [
              "222.25683674631173"
            ]
          },
          "metadata": {},
          "execution_count": 90
        }
      ]
    },
    {
      "cell_type": "code",
      "source": [
        "np.where(norma_t==min(norma_t))"
      ],
      "metadata": {
        "colab": {
          "base_uri": "https://localhost:8080/"
        },
        "id": "LeTd-vh2Bo6A",
        "outputId": "be43c930-ae68-4346-b334-af0d3145d74d"
      },
      "execution_count": 93,
      "outputs": [
        {
          "output_type": "execute_result",
          "data": {
            "text/plain": [
              "(array([76]),)"
            ]
          },
          "metadata": {},
          "execution_count": 93
        }
      ]
    },
    {
      "cell_type": "code",
      "source": [
        "coef_angulares[76]"
      ],
      "metadata": {
        "colab": {
          "base_uri": "https://localhost:8080/"
        },
        "id": "iARIiHf2B1Ji",
        "outputId": "469c1628-9ec2-4153-bb9a-d93af8a34f6f"
      },
      "execution_count": 94,
      "outputs": [
        {
          "output_type": "execute_result",
          "data": {
            "text/plain": [
              "15.976248410533696"
            ]
          },
          "metadata": {},
          "execution_count": 94
        }
      ]
    },
    {
      "cell_type": "code",
      "source": [],
      "metadata": {
        "id": "SdEO-BebB_Hn"
      },
      "execution_count": null,
      "outputs": []
    }
  ]
}